{
 "cells": [
  {
   "cell_type": "markdown",
   "id": "8d242f8b",
   "metadata": {},
   "source": [
    "# EDA 변이통계량"
   ]
  },
  {
   "cell_type": "code",
   "execution_count": 1,
   "id": "c88123ca",
   "metadata": {},
   "outputs": [],
   "source": [
    "import numpy as np\n",
    "import pandas as pd\n",
    "from scipy.stats import *"
   ]
  },
  {
   "cell_type": "code",
   "execution_count": 2,
   "id": "e0691969",
   "metadata": {},
   "outputs": [],
   "source": [
    "import numpy as np\n",
    "# numpy float 출력옵션 변경\n",
    "# np.set_printoptions(precision=3)\n",
    "# np.set_printoptions(precision=20, suppress=True)\n",
    "# pd.options.display.float_format = '{:.2f}'.format\n",
    "np.set_printoptions(formatter={'float_kind': lambda x: \"{0:0.3f}\".format(x)})"
   ]
  },
  {
   "cell_type": "code",
   "execution_count": 3,
   "id": "891cbe56",
   "metadata": {},
   "outputs": [],
   "source": [
    "from IPython.core.interactiveshell import InteractiveShell\n",
    "InteractiveShell.ast_node_interactivity=\"all\""
   ]
  },
  {
   "cell_type": "markdown",
   "id": "aac2f859",
   "metadata": {},
   "source": [
    "## 범위"
   ]
  },
  {
   "cell_type": "code",
   "execution_count": 4,
   "id": "6917a9af",
   "metadata": {},
   "outputs": [
    {
     "data": {
      "text/plain": [
       "array([78.287, 119.947, 105.660, 69.874, 88.428, 133.029, 51.466, 91.422,\n",
       "       125.319, 82.665])"
      ]
     },
     "execution_count": 4,
     "metadata": {},
     "output_type": "execute_result"
    }
   ],
   "source": [
    "np.random.seed(123)\n",
    "data = np.random.normal(100,20,size=1000)\n",
    "data[:10]"
   ]
  },
  {
   "cell_type": "code",
   "execution_count": 5,
   "id": "65a02490",
   "metadata": {},
   "outputs": [
    {
     "data": {
      "text/plain": [
       "(35.37889984161376, 171.43158436052622)"
      ]
     },
     "execution_count": 5,
     "metadata": {},
     "output_type": "execute_result"
    }
   ],
   "source": [
    "np.min(data), np.max(data)"
   ]
  },
  {
   "cell_type": "code",
   "execution_count": 6,
   "id": "38aac851",
   "metadata": {},
   "outputs": [
    {
     "data": {
      "text/plain": [
       "136.05268451891246"
      ]
     },
     "execution_count": 6,
     "metadata": {},
     "output_type": "execute_result"
    }
   ],
   "source": [
    "# 범위 = 최대값 - 최소값\n",
    "np.max(data)-np.min(data)"
   ]
  },
  {
   "cell_type": "code",
   "execution_count": 7,
   "id": "700322b8",
   "metadata": {},
   "outputs": [
    {
     "data": {
      "text/plain": [
       "136.05268451891246"
      ]
     },
     "execution_count": 7,
     "metadata": {},
     "output_type": "execute_result"
    }
   ],
   "source": [
    "# numpy.ptp() 이용\n",
    "np.ptp(data)"
   ]
  },
  {
   "cell_type": "markdown",
   "id": "6230775f",
   "metadata": {},
   "source": [
    "## 중간범위"
   ]
  },
  {
   "cell_type": "code",
   "execution_count": 8,
   "id": "0d85c609",
   "metadata": {},
   "outputs": [
    {
     "data": {
      "text/plain": [
       "103.40524210106999"
      ]
     },
     "execution_count": 8,
     "metadata": {},
     "output_type": "execute_result"
    }
   ],
   "source": [
    "# 중간 범위 계산\n",
    "(np.max(data)+np.min(data))/2"
   ]
  },
  {
   "cell_type": "markdown",
   "id": "9a288398",
   "metadata": {},
   "source": [
    "## 사분위간 범위"
   ]
  },
  {
   "cell_type": "code",
   "execution_count": 9,
   "id": "1aabb84a",
   "metadata": {},
   "outputs": [
    {
     "data": {
      "text/plain": [
       "27.06844676167337"
      ]
     },
     "execution_count": 9,
     "metadata": {},
     "output_type": "execute_result"
    }
   ],
   "source": [
    "np.quantile(data, 0.75)-np.quantile(data, 0.25)"
   ]
  },
  {
   "cell_type": "code",
   "execution_count": 10,
   "id": "9c7170f9",
   "metadata": {},
   "outputs": [
    {
     "data": {
      "text/plain": [
       "27.06844676167337"
      ]
     },
     "execution_count": 10,
     "metadata": {},
     "output_type": "execute_result"
    }
   ],
   "source": [
    "iqr(data)"
   ]
  },
  {
   "cell_type": "markdown",
   "id": "5c5ba8a4",
   "metadata": {},
   "source": [
    "## 사분위수 편차"
   ]
  },
  {
   "cell_type": "code",
   "execution_count": 11,
   "id": "6a6a7e93",
   "metadata": {},
   "outputs": [
    {
     "data": {
      "text/plain": [
       "13.534223380836686"
      ]
     },
     "execution_count": 11,
     "metadata": {},
     "output_type": "execute_result"
    }
   ],
   "source": [
    "(np.quantile(data, 0.75)-np.quantile(data, 0.25))/2"
   ]
  },
  {
   "cell_type": "code",
   "execution_count": 12,
   "id": "5dea38a3",
   "metadata": {},
   "outputs": [
    {
     "data": {
      "text/plain": [
       "13.534223380836686"
      ]
     },
     "execution_count": 12,
     "metadata": {},
     "output_type": "execute_result"
    }
   ],
   "source": [
    "iqr(data)/2"
   ]
  },
  {
   "cell_type": "markdown",
   "id": "3d60a5c1",
   "metadata": {},
   "source": [
    "## 편차"
   ]
  },
  {
   "cell_type": "markdown",
   "id": "49b2d43e",
   "metadata": {},
   "source": [
    "* 자료값과 평균과의 차이\n",
    "* xi-mean()"
   ]
  },
  {
   "cell_type": "code",
   "execution_count": 13,
   "id": "db0c86af",
   "metadata": {},
   "outputs": [
    {
     "data": {
      "text/plain": [
       "-7.815970093361102e-12"
      ]
     },
     "execution_count": 13,
     "metadata": {},
     "output_type": "execute_result"
    }
   ],
   "source": [
    "(data-np.mean(data)).sum()"
   ]
  },
  {
   "cell_type": "markdown",
   "id": "12c968f3",
   "metadata": {},
   "source": [
    "**분산계산 : var(a,ddof=0)**"
   ]
  },
  {
   "cell_type": "code",
   "execution_count": 14,
   "id": "d564fe75",
   "metadata": {},
   "outputs": [
    {
     "data": {
      "text/plain": [
       "2.5"
      ]
     },
     "execution_count": 14,
     "metadata": {},
     "output_type": "execute_result"
    },
    {
     "data": {
      "text/plain": [
       "2.0"
      ]
     },
     "execution_count": 14,
     "metadata": {},
     "output_type": "execute_result"
    },
    {
     "data": {
      "text/plain": [
       "2.0"
      ]
     },
     "execution_count": 14,
     "metadata": {},
     "output_type": "execute_result"
    },
    {
     "data": {
      "text/plain": [
       "2.0"
      ]
     },
     "execution_count": 14,
     "metadata": {},
     "output_type": "execute_result"
    }
   ],
   "source": [
    "x = [1, 2, 3, 4, 5]\n",
    "\n",
    "# 표본분산, ddof=1\n",
    "np.var(x, ddof=1)\n",
    "\n",
    "# 모분산\n",
    "np.var(x)\n",
    "\n",
    "# 모분산, ddof=0\n",
    "np.var(x, ddof=0)\n",
    "pd.Series(x).var(ddof=0)"
   ]
  },
  {
   "cell_type": "markdown",
   "id": "06be9e22",
   "metadata": {},
   "source": [
    "## 표준편차"
   ]
  },
  {
   "cell_type": "code",
   "execution_count": 15,
   "id": "61ce37b5",
   "metadata": {},
   "outputs": [
    {
     "data": {
      "text/plain": [
       "1.5811388300841898"
      ]
     },
     "execution_count": 15,
     "metadata": {},
     "output_type": "execute_result"
    },
    {
     "data": {
      "text/plain": [
       "1.4142135623730951"
      ]
     },
     "execution_count": 15,
     "metadata": {},
     "output_type": "execute_result"
    },
    {
     "data": {
      "text/plain": [
       "1.4142135623730951"
      ]
     },
     "execution_count": 15,
     "metadata": {},
     "output_type": "execute_result"
    }
   ],
   "source": [
    "x = [1, 2, 3, 4, 5]\n",
    "\n",
    "# 표본표준편차(S)\n",
    "np.std(x, ddof=1)\n",
    "\n",
    "# 모표준편차 (sigma)\n",
    "np.std(x)\n",
    "\n",
    "# np.array(x).std(x)\n",
    "pd.Series(x).std(ddof=0)"
   ]
  },
  {
   "cell_type": "markdown",
   "id": "fb22782a",
   "metadata": {},
   "source": [
    "## 변동계수"
   ]
  },
  {
   "cell_type": "code",
   "execution_count": 16,
   "id": "80b0ce47",
   "metadata": {},
   "outputs": [
    {
     "name": "stdout",
     "output_type": "stream",
     "text": [
      "평균\n"
     ]
    },
    {
     "data": {
      "text/plain": [
       "72.0"
      ]
     },
     "execution_count": 16,
     "metadata": {},
     "output_type": "execute_result"
    },
    {
     "data": {
      "text/plain": [
       "49.0"
      ]
     },
     "execution_count": 16,
     "metadata": {},
     "output_type": "execute_result"
    },
    {
     "name": "stdout",
     "output_type": "stream",
     "text": [
      "표본표준편차\n"
     ]
    },
    {
     "data": {
      "text/plain": [
       "4.242640687119285"
      ]
     },
     "execution_count": 16,
     "metadata": {},
     "output_type": "execute_result"
    },
    {
     "data": {
      "text/plain": [
       "3.22490309931942"
      ]
     },
     "execution_count": 16,
     "metadata": {},
     "output_type": "execute_result"
    }
   ],
   "source": [
    "men = [72,74,77,68,66,75]\n",
    "women = [45,48,52,53,46,50]\n",
    "\n",
    "print('평균')\n",
    "np.mean(men)\n",
    "np.mean(women)\n",
    "print('표본표준편차')\n",
    "np.std(men,ddof=1)\n",
    "np.std(women,ddof=1)"
   ]
  },
  {
   "cell_type": "code",
   "execution_count": 17,
   "id": "57d45699",
   "metadata": {},
   "outputs": [
    {
     "name": "stdout",
     "output_type": "stream",
     "text": [
      "남자CV: 0.05892556509887895\n",
      "여자CV: 0.06581434896570246\n"
     ]
    }
   ],
   "source": [
    "# np.std(x, axis=axis, ddof=ddof) / np.mean(x) 이용\n",
    "\n",
    "print('남자CV:',np.std(men, ddof=1)/np.mean(men))\n",
    "print('여자CV:',np.std(women, ddof=1)/np.mean(women))"
   ]
  },
  {
   "cell_type": "code",
   "execution_count": 21,
   "id": "9f60ca2b",
   "metadata": {},
   "outputs": [
    {
     "name": "stdout",
     "output_type": "stream",
     "text": [
      "남자CV: 0.053791435363991905\n",
      "여자CV: 0.06008000589338671\n"
     ]
    }
   ],
   "source": [
    "print('남자CV:',variation(men))\n",
    "print('여자CV:', variation(women))"
   ]
  },
  {
   "cell_type": "markdown",
   "id": "f4065cd7",
   "metadata": {},
   "source": [
    "## 데이터 정규화\n",
    "\n",
    ": scaling(표준화)\n",
    "\n",
    "* 각 값들을 상대적인 값으로 변화시키는 기법\n",
    "* 예. 국어 평균 95점, 수학 평균 30인 경우"
   ]
  },
  {
   "cell_type": "markdown",
   "id": "cb77617c",
   "metadata": {},
   "source": [
    "**표준화 예제**"
   ]
  },
  {
   "cell_type": "code",
   "execution_count": 29,
   "id": "f79d50be",
   "metadata": {},
   "outputs": [
    {
     "data": {
      "text/html": [
       "<div>\n",
       "<style scoped>\n",
       "    .dataframe tbody tr th:only-of-type {\n",
       "        vertical-align: middle;\n",
       "    }\n",
       "\n",
       "    .dataframe tbody tr th {\n",
       "        vertical-align: top;\n",
       "    }\n",
       "\n",
       "    .dataframe thead th {\n",
       "        text-align: right;\n",
       "    }\n",
       "</style>\n",
       "<table border=\"1\" class=\"dataframe\">\n",
       "  <thead>\n",
       "    <tr style=\"text-align: right;\">\n",
       "      <th></th>\n",
       "      <th>english</th>\n",
       "      <th>mathematics</th>\n",
       "    </tr>\n",
       "    <tr>\n",
       "      <th>student number</th>\n",
       "      <th></th>\n",
       "      <th></th>\n",
       "    </tr>\n",
       "  </thead>\n",
       "  <tbody>\n",
       "    <tr>\n",
       "      <th>1</th>\n",
       "      <td>42</td>\n",
       "      <td>65</td>\n",
       "    </tr>\n",
       "    <tr>\n",
       "      <th>2</th>\n",
       "      <td>69</td>\n",
       "      <td>80</td>\n",
       "    </tr>\n",
       "    <tr>\n",
       "      <th>3</th>\n",
       "      <td>56</td>\n",
       "      <td>63</td>\n",
       "    </tr>\n",
       "    <tr>\n",
       "      <th>4</th>\n",
       "      <td>41</td>\n",
       "      <td>63</td>\n",
       "    </tr>\n",
       "    <tr>\n",
       "      <th>5</th>\n",
       "      <td>57</td>\n",
       "      <td>76</td>\n",
       "    </tr>\n",
       "  </tbody>\n",
       "</table>\n",
       "</div>"
      ],
      "text/plain": [
       "                english  mathematics\n",
       "student number                      \n",
       "1                    42           65\n",
       "2                    69           80\n",
       "3                    56           63\n",
       "4                    41           63\n",
       "5                    57           76"
      ]
     },
     "execution_count": 29,
     "metadata": {},
     "output_type": "execute_result"
    }
   ],
   "source": [
    "df = pd.read_csv('./data/ch2_scores_em.csv',index_col='student number')\n",
    "df.head()"
   ]
  },
  {
   "cell_type": "code",
   "execution_count": 30,
   "id": "f234c58b",
   "metadata": {},
   "outputs": [
    {
     "data": {
      "text/plain": [
       "count    50.000000\n",
       "mean     58.380000\n",
       "std       9.799813\n",
       "min      37.000000\n",
       "25%      54.000000\n",
       "50%      57.500000\n",
       "75%      65.000000\n",
       "max      79.000000\n",
       "Name: english, dtype: float64"
      ]
     },
     "execution_count": 30,
     "metadata": {},
     "output_type": "execute_result"
    }
   ],
   "source": [
    "df['english'].describe()"
   ]
  },
  {
   "cell_type": "code",
   "execution_count": 31,
   "id": "31d7c80b",
   "metadata": {},
   "outputs": [
    {
     "data": {
      "text/plain": [
       "count    50.000000\n",
       "mean     78.880000\n",
       "std       8.414371\n",
       "min      57.000000\n",
       "25%      76.000000\n",
       "50%      80.000000\n",
       "75%      84.000000\n",
       "max      94.000000\n",
       "Name: mathematics, dtype: float64"
      ]
     },
     "execution_count": 31,
     "metadata": {},
     "output_type": "execute_result"
    }
   ],
   "source": [
    "df['mathematics'].describe()"
   ]
  },
  {
   "cell_type": "code",
   "execution_count": 32,
   "id": "be4fd195",
   "metadata": {},
   "outputs": [
    {
     "data": {
      "text/html": [
       "<div>\n",
       "<style scoped>\n",
       "    .dataframe tbody tr th:only-of-type {\n",
       "        vertical-align: middle;\n",
       "    }\n",
       "\n",
       "    .dataframe tbody tr th {\n",
       "        vertical-align: top;\n",
       "    }\n",
       "\n",
       "    .dataframe thead th {\n",
       "        text-align: right;\n",
       "    }\n",
       "</style>\n",
       "<table border=\"1\" class=\"dataframe\">\n",
       "  <thead>\n",
       "    <tr style=\"text-align: right;\">\n",
       "      <th></th>\n",
       "      <th>english</th>\n",
       "      <th>mathematics</th>\n",
       "    </tr>\n",
       "  </thead>\n",
       "  <tbody>\n",
       "    <tr>\n",
       "      <th>count</th>\n",
       "      <td>50.000000</td>\n",
       "      <td>50.000000</td>\n",
       "    </tr>\n",
       "    <tr>\n",
       "      <th>mean</th>\n",
       "      <td>58.380000</td>\n",
       "      <td>78.880000</td>\n",
       "    </tr>\n",
       "    <tr>\n",
       "      <th>std</th>\n",
       "      <td>9.799813</td>\n",
       "      <td>8.414371</td>\n",
       "    </tr>\n",
       "    <tr>\n",
       "      <th>min</th>\n",
       "      <td>37.000000</td>\n",
       "      <td>57.000000</td>\n",
       "    </tr>\n",
       "    <tr>\n",
       "      <th>25%</th>\n",
       "      <td>54.000000</td>\n",
       "      <td>76.000000</td>\n",
       "    </tr>\n",
       "    <tr>\n",
       "      <th>50%</th>\n",
       "      <td>57.500000</td>\n",
       "      <td>80.000000</td>\n",
       "    </tr>\n",
       "    <tr>\n",
       "      <th>75%</th>\n",
       "      <td>65.000000</td>\n",
       "      <td>84.000000</td>\n",
       "    </tr>\n",
       "    <tr>\n",
       "      <th>max</th>\n",
       "      <td>79.000000</td>\n",
       "      <td>94.000000</td>\n",
       "    </tr>\n",
       "  </tbody>\n",
       "</table>\n",
       "</div>"
      ],
      "text/plain": [
       "         english  mathematics\n",
       "count  50.000000    50.000000\n",
       "mean   58.380000    78.880000\n",
       "std     9.799813     8.414371\n",
       "min    37.000000    57.000000\n",
       "25%    54.000000    76.000000\n",
       "50%    57.500000    80.000000\n",
       "75%    65.000000    84.000000\n",
       "max    79.000000    94.000000"
      ]
     },
     "execution_count": 32,
     "metadata": {},
     "output_type": "execute_result"
    }
   ],
   "source": [
    "df.describe()"
   ]
  },
  {
   "cell_type": "code",
   "execution_count": 33,
   "id": "c2b60192",
   "metadata": {},
   "outputs": [
    {
     "name": "stdout",
     "output_type": "stream",
     "text": [
      "-2.1816743772942324 2.104121873704727\n",
      "-2.600313324789425 1.796925844187209\n"
     ]
    }
   ],
   "source": [
    "# Z-scaling - 평균이 0 표준편차가 1이됨\n",
    "z1 = (df['english']-df['english'].mean())/df['english'].std()\n",
    "z2 = (df['mathematics']-df['mathematics'].mean())/df['mathematics'].std()\n",
    "\n",
    "print(z1.min(), z1.max())\n",
    "print(z2.min(), z2.max())\n",
    "# -3 ~ 3 사이의 값으로 분포됨"
   ]
  },
  {
   "cell_type": "markdown",
   "id": "d41e4121",
   "metadata": {},
   "source": [
    "min-max scaling"
   ]
  },
  {
   "cell_type": "code",
   "execution_count": 36,
   "id": "76023351",
   "metadata": {},
   "outputs": [
    {
     "name": "stdout",
     "output_type": "stream",
     "text": [
      "eng :  0.0 1.0\n",
      "math :  0.0 1.0\n"
     ]
    }
   ],
   "source": [
    "s1 = (df['english']-df['english'].min())/(df['english'].max()-df['english'].min())\n",
    "s2 = (df['mathematics']-df['mathematics'].min())/(df['mathematics'].max()-df['mathematics'].min())\n",
    "\n",
    "print('eng : ', s1.min(), s1.max())\n",
    "print('math : ', s2.min(), s2.max())"
   ]
  },
  {
   "cell_type": "markdown",
   "id": "d8fb207d",
   "metadata": {},
   "source": [
    "스케일링"
   ]
  },
  {
   "cell_type": "code",
   "execution_count": 37,
   "id": "0eb9e0c2",
   "metadata": {},
   "outputs": [
    {
     "data": {
      "text/html": [
       "<div>\n",
       "<style scoped>\n",
       "    .dataframe tbody tr th:only-of-type {\n",
       "        vertical-align: middle;\n",
       "    }\n",
       "\n",
       "    .dataframe tbody tr th {\n",
       "        vertical-align: top;\n",
       "    }\n",
       "\n",
       "    .dataframe thead th {\n",
       "        text-align: right;\n",
       "    }\n",
       "</style>\n",
       "<table border=\"1\" class=\"dataframe\">\n",
       "  <thead>\n",
       "    <tr style=\"text-align: right;\">\n",
       "      <th></th>\n",
       "      <th>english</th>\n",
       "      <th>mathematics</th>\n",
       "    </tr>\n",
       "    <tr>\n",
       "      <th>student number</th>\n",
       "      <th></th>\n",
       "      <th></th>\n",
       "    </tr>\n",
       "  </thead>\n",
       "  <tbody>\n",
       "    <tr>\n",
       "      <th>1</th>\n",
       "      <td>42</td>\n",
       "      <td>65</td>\n",
       "    </tr>\n",
       "    <tr>\n",
       "      <th>2</th>\n",
       "      <td>69</td>\n",
       "      <td>80</td>\n",
       "    </tr>\n",
       "    <tr>\n",
       "      <th>3</th>\n",
       "      <td>56</td>\n",
       "      <td>63</td>\n",
       "    </tr>\n",
       "    <tr>\n",
       "      <th>4</th>\n",
       "      <td>41</td>\n",
       "      <td>63</td>\n",
       "    </tr>\n",
       "    <tr>\n",
       "      <th>5</th>\n",
       "      <td>57</td>\n",
       "      <td>76</td>\n",
       "    </tr>\n",
       "  </tbody>\n",
       "</table>\n",
       "</div>"
      ],
      "text/plain": [
       "                english  mathematics\n",
       "student number                      \n",
       "1                    42           65\n",
       "2                    69           80\n",
       "3                    56           63\n",
       "4                    41           63\n",
       "5                    57           76"
      ]
     },
     "execution_count": 37,
     "metadata": {},
     "output_type": "execute_result"
    }
   ],
   "source": [
    "df.head()"
   ]
  },
  {
   "cell_type": "code",
   "execution_count": 40,
   "id": "9aeb1967",
   "metadata": {},
   "outputs": [
    {
     "data": {
      "text/html": [
       "<div>\n",
       "<style scoped>\n",
       "    .dataframe tbody tr th:only-of-type {\n",
       "        vertical-align: middle;\n",
       "    }\n",
       "\n",
       "    .dataframe tbody tr th {\n",
       "        vertical-align: top;\n",
       "    }\n",
       "\n",
       "    .dataframe thead th {\n",
       "        text-align: right;\n",
       "    }\n",
       "</style>\n",
       "<table border=\"1\" class=\"dataframe\">\n",
       "  <thead>\n",
       "    <tr style=\"text-align: right;\">\n",
       "      <th></th>\n",
       "      <th>english</th>\n",
       "      <th>mathematics</th>\n",
       "    </tr>\n",
       "    <tr>\n",
       "      <th>student number</th>\n",
       "      <th></th>\n",
       "      <th></th>\n",
       "    </tr>\n",
       "  </thead>\n",
       "  <tbody>\n",
       "    <tr>\n",
       "      <th>1</th>\n",
       "      <td>0.119048</td>\n",
       "      <td>0.216216</td>\n",
       "    </tr>\n",
       "    <tr>\n",
       "      <th>2</th>\n",
       "      <td>0.761905</td>\n",
       "      <td>0.621622</td>\n",
       "    </tr>\n",
       "    <tr>\n",
       "      <th>3</th>\n",
       "      <td>0.452381</td>\n",
       "      <td>0.162162</td>\n",
       "    </tr>\n",
       "    <tr>\n",
       "      <th>4</th>\n",
       "      <td>0.095238</td>\n",
       "      <td>0.162162</td>\n",
       "    </tr>\n",
       "    <tr>\n",
       "      <th>5</th>\n",
       "      <td>0.476190</td>\n",
       "      <td>0.513514</td>\n",
       "    </tr>\n",
       "  </tbody>\n",
       "</table>\n",
       "</div>"
      ],
      "text/plain": [
       "                 english  mathematics\n",
       "student number                       \n",
       "1               0.119048     0.216216\n",
       "2               0.761905     0.621622\n",
       "3               0.452381     0.162162\n",
       "4               0.095238     0.162162\n",
       "5               0.476190     0.513514"
      ]
     },
     "execution_count": 40,
     "metadata": {},
     "output_type": "execute_result"
    }
   ],
   "source": [
    "from sklearn.preprocessing import MinMaxScaler\n",
    "\n",
    "scaler = MinMaxScaler()\n",
    "S = scaler.fit_transform(df)\n",
    "pd.DataFrame(S, columns = df.columns, index=df.index).head()"
   ]
  }
 ],
 "metadata": {
  "kernelspec": {
   "display_name": "Python 3 (ipykernel)",
   "language": "python",
   "name": "python3"
  },
  "language_info": {
   "codemirror_mode": {
    "name": "ipython",
    "version": 3
   },
   "file_extension": ".py",
   "mimetype": "text/x-python",
   "name": "python",
   "nbconvert_exporter": "python",
   "pygments_lexer": "ipython3",
   "version": "3.9.7"
  }
 },
 "nbformat": 4,
 "nbformat_minor": 5
}
