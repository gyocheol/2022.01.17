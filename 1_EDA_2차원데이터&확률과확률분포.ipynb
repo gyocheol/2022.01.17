{
 "cells": [
  {
   "cell_type": "markdown",
   "id": "defc4571",
   "metadata": {},
   "source": [
    "# 2차원데이터"
   ]
  },
  {
   "cell_type": "code",
   "execution_count": 1,
   "id": "c118cbfb",
   "metadata": {},
   "outputs": [],
   "source": [
    "import numpy as np\n",
    "import pandas as pd\n",
    "import math\n",
    "from scipy.stats import *\n",
    "import scipy as sp\n",
    "\n",
    "# Jupyter Notebook의 출력을 소수점 이하 3자리로 제한\n",
    "%precision 3\n",
    "# Dataframe의 출력을 소수점 이하 3자리로 제한\n",
    "pd.set_option('precision', 3)"
   ]
  },
  {
   "cell_type": "code",
   "execution_count": 2,
   "id": "5c67075b",
   "metadata": {},
   "outputs": [],
   "source": [
    "from matplotlib import pyplot as plt\n",
    "%matplotlib inline"
   ]
  },
  {
   "cell_type": "code",
   "execution_count": 3,
   "id": "56d151c7",
   "metadata": {},
   "outputs": [],
   "source": [
    "from IPython.core.interactiveshell import InteractiveShell\n",
    "InteractiveShell.ast_node_interactivity=\"all\""
   ]
  },
  {
   "cell_type": "code",
   "execution_count": 4,
   "id": "43535b44",
   "metadata": {},
   "outputs": [],
   "source": [
    "import numpy as np\n",
    "# numpy float 출력옵션 변경\n",
    "# np.set_printoptions(precision=3)\n",
    "# np.set_printoptions(precision=20, suppress=True)\n",
    "# pd.options.display.float_format = '{:.2f}'.format\n",
    "np.set_printoptions(formatter={'float_kind': lambda x: \"{0:0.3f}\".format(x)})"
   ]
  },
  {
   "cell_type": "code",
   "execution_count": 5,
   "id": "ad305189",
   "metadata": {},
   "outputs": [
    {
     "data": {
      "text/html": [
       "<div>\n",
       "<style scoped>\n",
       "    .dataframe tbody tr th:only-of-type {\n",
       "        vertical-align: middle;\n",
       "    }\n",
       "\n",
       "    .dataframe tbody tr th {\n",
       "        vertical-align: top;\n",
       "    }\n",
       "\n",
       "    .dataframe thead th {\n",
       "        text-align: right;\n",
       "    }\n",
       "</style>\n",
       "<table border=\"1\" class=\"dataframe\">\n",
       "  <thead>\n",
       "    <tr style=\"text-align: right;\">\n",
       "      <th></th>\n",
       "      <th>english</th>\n",
       "      <th>mathematics</th>\n",
       "    </tr>\n",
       "    <tr>\n",
       "      <th>student number</th>\n",
       "      <th></th>\n",
       "      <th></th>\n",
       "    </tr>\n",
       "  </thead>\n",
       "  <tbody>\n",
       "    <tr>\n",
       "      <th>1</th>\n",
       "      <td>42</td>\n",
       "      <td>65</td>\n",
       "    </tr>\n",
       "    <tr>\n",
       "      <th>2</th>\n",
       "      <td>69</td>\n",
       "      <td>80</td>\n",
       "    </tr>\n",
       "    <tr>\n",
       "      <th>3</th>\n",
       "      <td>56</td>\n",
       "      <td>63</td>\n",
       "    </tr>\n",
       "    <tr>\n",
       "      <th>4</th>\n",
       "      <td>41</td>\n",
       "      <td>63</td>\n",
       "    </tr>\n",
       "    <tr>\n",
       "      <th>5</th>\n",
       "      <td>57</td>\n",
       "      <td>76</td>\n",
       "    </tr>\n",
       "  </tbody>\n",
       "</table>\n",
       "</div>"
      ],
      "text/plain": [
       "                english  mathematics\n",
       "student number                      \n",
       "1                    42           65\n",
       "2                    69           80\n",
       "3                    56           63\n",
       "4                    41           63\n",
       "5                    57           76"
      ]
     },
     "execution_count": 5,
     "metadata": {},
     "output_type": "execute_result"
    }
   ],
   "source": [
    "df = pd.read_csv('./data/ch2_scores_em.csv',\n",
    "                 index_col='student number')\n",
    "df.head()"
   ]
  },
  {
   "cell_type": "code",
   "execution_count": 6,
   "id": "c7a4519d",
   "metadata": {
    "scrolled": false
   },
   "outputs": [
    {
     "data": {
      "text/plain": [
       "<matplotlib.collections.PathCollection at 0x1325e072b80>"
      ]
     },
     "execution_count": 6,
     "metadata": {},
     "output_type": "execute_result"
    },
    {
     "data": {
      "text/plain": [
       "Text(0.5, 0, 'english score')"
      ]
     },
     "execution_count": 6,
     "metadata": {},
     "output_type": "execute_result"
    },
    {
     "data": {
      "text/plain": [
       "Text(0, 0.5, 'mathematics score')"
      ]
     },
     "execution_count": 6,
     "metadata": {},
     "output_type": "execute_result"
    },
    {
     "data": {
      "text/plain": [
       "<matplotlib.lines.Line2D at 0x1325e064b20>"
      ]
     },
     "execution_count": 6,
     "metadata": {},
     "output_type": "execute_result"
    },
    {
     "data": {
      "text/plain": [
       "<matplotlib.lines.Line2D at 0x1325e072f10>"
      ]
     },
     "execution_count": 6,
     "metadata": {},
     "output_type": "execute_result"
    },
    {
     "data": {
      "image/png": "[encoded data removed]",
      "text/plain": [
       "<Figure size 432x288 with 1 Axes>"
      ]
     },
     "metadata": {
      "needs_background": "light"
     },
     "output_type": "display_data"
    }
   ],
   "source": [
    "plt.scatter(df['english'], df['mathematics'])\n",
    "plt.xlabel('english score')\n",
    "plt.ylabel('mathematics score')\n",
    "\n",
    "plt.axhline(y=df['mathematics'].mean(), color='r',\n",
    "            linewidth=1,linestyle=':')\n",
    "plt.axvline(x=df['english'].mean(), color='r',\n",
    "            linewidth=1,linestyle=':')\n",
    "plt.show()"
   ]
  },
  {
   "cell_type": "markdown",
   "id": "b2a21814",
   "metadata": {},
   "source": [
    "## 공분산\n",
    "\n",
    "교재 74p"
   ]
  },
  {
   "cell_type": "code",
   "execution_count": 7,
   "id": "e4a12e31",
   "metadata": {},
   "outputs": [
    {
     "data": {
      "text/html": [
       "<div>\n",
       "<style scoped>\n",
       "    .dataframe tbody tr th:only-of-type {\n",
       "        vertical-align: middle;\n",
       "    }\n",
       "\n",
       "    .dataframe tbody tr th {\n",
       "        vertical-align: top;\n",
       "    }\n",
       "\n",
       "    .dataframe thead th {\n",
       "        text-align: right;\n",
       "    }\n",
       "</style>\n",
       "<table border=\"1\" class=\"dataframe\">\n",
       "  <thead>\n",
       "    <tr style=\"text-align: right;\">\n",
       "      <th></th>\n",
       "      <th>english</th>\n",
       "      <th>mathematics</th>\n",
       "      <th>eng_dev.</th>\n",
       "      <th>math_dev.</th>\n",
       "      <th>productOfDev.</th>\n",
       "    </tr>\n",
       "    <tr>\n",
       "      <th>student number</th>\n",
       "      <th></th>\n",
       "      <th></th>\n",
       "      <th></th>\n",
       "      <th></th>\n",
       "      <th></th>\n",
       "    </tr>\n",
       "  </thead>\n",
       "  <tbody>\n",
       "    <tr>\n",
       "      <th>1</th>\n",
       "      <td>42</td>\n",
       "      <td>65</td>\n",
       "      <td>-16.38</td>\n",
       "      <td>-13.88</td>\n",
       "      <td>227.354</td>\n",
       "    </tr>\n",
       "    <tr>\n",
       "      <th>2</th>\n",
       "      <td>69</td>\n",
       "      <td>80</td>\n",
       "      <td>10.62</td>\n",
       "      <td>1.12</td>\n",
       "      <td>11.894</td>\n",
       "    </tr>\n",
       "    <tr>\n",
       "      <th>3</th>\n",
       "      <td>56</td>\n",
       "      <td>63</td>\n",
       "      <td>-2.38</td>\n",
       "      <td>-15.88</td>\n",
       "      <td>37.794</td>\n",
       "    </tr>\n",
       "    <tr>\n",
       "      <th>4</th>\n",
       "      <td>41</td>\n",
       "      <td>63</td>\n",
       "      <td>-17.38</td>\n",
       "      <td>-15.88</td>\n",
       "      <td>275.994</td>\n",
       "    </tr>\n",
       "    <tr>\n",
       "      <th>5</th>\n",
       "      <td>57</td>\n",
       "      <td>76</td>\n",
       "      <td>-1.38</td>\n",
       "      <td>-2.88</td>\n",
       "      <td>3.974</td>\n",
       "    </tr>\n",
       "  </tbody>\n",
       "</table>\n",
       "</div>"
      ],
      "text/plain": [
       "                english  mathematics  eng_dev.  math_dev.  productOfDev.\n",
       "student number                                                          \n",
       "1                    42           65    -16.38     -13.88        227.354\n",
       "2                    69           80     10.62       1.12         11.894\n",
       "3                    56           63     -2.38     -15.88         37.794\n",
       "4                    41           63    -17.38     -15.88        275.994\n",
       "5                    57           76     -1.38      -2.88          3.974"
      ]
     },
     "execution_count": 7,
     "metadata": {},
     "output_type": "execute_result"
    }
   ],
   "source": [
    "summary_df = df.copy()\n",
    "summary_df['eng_dev.'] =\\\n",
    "    summary_df['english'] - summary_df['english'].mean()\n",
    "summary_df['math_dev.'] =\\\n",
    "    summary_df['mathematics'] - summary_df['mathematics'].mean()\n",
    "summary_df['productOfDev.'] =\\\n",
    "    summary_df['eng_dev.'] * summary_df['math_dev.']\n",
    "summary_df.head()"
   ]
  },
  {
   "cell_type": "code",
   "execution_count": 8,
   "id": "c20ed9fc",
   "metadata": {},
   "outputs": [
    {
     "data": {
      "text/plain": [
       "58.486"
      ]
     },
     "execution_count": 8,
     "metadata": {},
     "output_type": "execute_result"
    }
   ],
   "source": [
    "summary_df['productOfDev.'].mean()"
   ]
  },
  {
   "cell_type": "markdown",
   "id": "ffe8c196",
   "metadata": {},
   "source": [
    "numpy의 공분산 함수 : cov(data1, data2, ddof=)"
   ]
  },
  {
   "cell_type": "code",
   "execution_count": 9,
   "id": "e6bbab26",
   "metadata": {},
   "outputs": [
    {
     "data": {
      "text/plain": [
       "array([[94.116, 58.486],\n",
       "       [58.486, 69.386]])"
      ]
     },
     "execution_count": 9,
     "metadata": {},
     "output_type": "execute_result"
    }
   ],
   "source": [
    "cov_mat = np.cov(df['english'],df['mathematics'], ddof=0)\n",
    "cov_mat"
   ]
  },
  {
   "cell_type": "code",
   "execution_count": 10,
   "id": "cd3e7745",
   "metadata": {},
   "outputs": [
    {
     "data": {
      "text/plain": [
       "(58.4856, 58.4856)"
      ]
     },
     "execution_count": 10,
     "metadata": {},
     "output_type": "execute_result"
    }
   ],
   "source": [
    "cov_mat[0, 1], cov_mat[1, 0]"
   ]
  },
  {
   "cell_type": "markdown",
   "id": "aeda48e1",
   "metadata": {},
   "source": [
    "각 과목의 분산"
   ]
  },
  {
   "cell_type": "code",
   "execution_count": 11,
   "id": "b0fb0a34",
   "metadata": {},
   "outputs": [
    {
     "data": {
      "text/plain": [
       "94.11560000000001"
      ]
     },
     "execution_count": 11,
     "metadata": {},
     "output_type": "execute_result"
    }
   ],
   "source": [
    "# 영어 과목의 분산\n",
    "cov_mat[0, 0]"
   ]
  },
  {
   "cell_type": "code",
   "execution_count": 12,
   "id": "9c228ad1",
   "metadata": {},
   "outputs": [
    {
     "data": {
      "text/plain": [
       "69.38559999999995"
      ]
     },
     "execution_count": 12,
     "metadata": {},
     "output_type": "execute_result"
    }
   ],
   "source": [
    "# 수학 과목의 분산\n",
    "cov_mat[1, 1]"
   ]
  },
  {
   "cell_type": "code",
   "execution_count": 14,
   "id": "d3a1c351",
   "metadata": {},
   "outputs": [
    {
     "data": {
      "text/plain": [
       "(94.116, 69.386)"
      ]
     },
     "execution_count": 14,
     "metadata": {},
     "output_type": "execute_result"
    }
   ],
   "source": [
    "np.var(df['english'], ddof=0), np.var(df['mathematics'], ddof=0)"
   ]
  },
  {
   "cell_type": "markdown",
   "id": "30411d8b",
   "metadata": {},
   "source": [
    "## 상관계수"
   ]
  },
  {
   "cell_type": "code",
   "execution_count": 15,
   "id": "976dcc0b",
   "metadata": {},
   "outputs": [
    {
     "data": {
      "text/plain": [
       "0.7237414863069244"
      ]
     },
     "execution_count": 15,
     "metadata": {},
     "output_type": "execute_result"
    }
   ],
   "source": [
    "# 수식으로 상관계수 계산\n",
    "np.cov(df['english'], df['mathematics'], ddof=0)[0, 1] /\\\n",
    "    (np.std(df['english']) * np.std(df['mathematics']))"
   ]
  },
  {
   "cell_type": "code",
   "execution_count": 16,
   "id": "0c18a65f",
   "metadata": {},
   "outputs": [
    {
     "data": {
      "text/plain": [
       "array([[1.000, 0.724],\n",
       "       [0.724, 1.000]])"
      ]
     },
     "execution_count": 16,
     "metadata": {},
     "output_type": "execute_result"
    }
   ],
   "source": [
    "np.corrcoef(df['english'], df['mathematics'])"
   ]
  },
  {
   "cell_type": "code",
   "execution_count": 18,
   "id": "10d65b19",
   "metadata": {},
   "outputs": [
    {
     "data": {
      "text/html": [
       "<div>\n",
       "<style scoped>\n",
       "    .dataframe tbody tr th:only-of-type {\n",
       "        vertical-align: middle;\n",
       "    }\n",
       "\n",
       "    .dataframe tbody tr th {\n",
       "        vertical-align: top;\n",
       "    }\n",
       "\n",
       "    .dataframe thead th {\n",
       "        text-align: right;\n",
       "    }\n",
       "</style>\n",
       "<table border=\"1\" class=\"dataframe\">\n",
       "  <thead>\n",
       "    <tr style=\"text-align: right;\">\n",
       "      <th></th>\n",
       "      <th>english</th>\n",
       "      <th>mathematics</th>\n",
       "    </tr>\n",
       "  </thead>\n",
       "  <tbody>\n",
       "    <tr>\n",
       "      <th>english</th>\n",
       "      <td>1.000</td>\n",
       "      <td>0.724</td>\n",
       "    </tr>\n",
       "    <tr>\n",
       "      <th>mathematics</th>\n",
       "      <td>0.724</td>\n",
       "      <td>1.000</td>\n",
       "    </tr>\n",
       "  </tbody>\n",
       "</table>\n",
       "</div>"
      ],
      "text/plain": [
       "             english  mathematics\n",
       "english        1.000        0.724\n",
       "mathematics    0.724        1.000"
      ]
     },
     "execution_count": 18,
     "metadata": {},
     "output_type": "execute_result"
    }
   ],
   "source": [
    "df.corr()"
   ]
  },
  {
   "cell_type": "code",
   "execution_count": 19,
   "id": "ed6decab",
   "metadata": {},
   "outputs": [
    {
     "data": {
      "text/plain": [
       "<matplotlib.collections.PathCollection at 0x1325fd24be0>"
      ]
     },
     "execution_count": 19,
     "metadata": {},
     "output_type": "execute_result"
    },
    {
     "data": {
      "text/plain": [
       "Text(0.5, 0, 'english')"
      ]
     },
     "execution_count": 19,
     "metadata": {},
     "output_type": "execute_result"
    },
    {
     "data": {
      "text/plain": [
       "Text(0, 0.5, 'mathematics')"
      ]
     },
     "execution_count": 19,
     "metadata": {},
     "output_type": "execute_result"
    },
    {
     "data": {
      "image/png": "[encoded data removed]",
      "text/plain": [
       "<Figure size 432x288 with 1 Axes>"
      ]
     },
     "metadata": {
      "needs_background": "light"
     },
     "output_type": "display_data"
    }
   ],
   "source": [
    "# 산점도\n",
    "plt.scatter(df['english'],df['mathematics'] )\n",
    "plt.xlabel('english')\n",
    "plt.ylabel('mathematics')\n",
    "plt.show()"
   ]
  },
  {
   "cell_type": "markdown",
   "id": "cae037de",
   "metadata": {},
   "source": [
    "## 회귀 직선"
   ]
  },
  {
   "cell_type": "code",
   "execution_count": 20,
   "id": "4c06fd5a",
   "metadata": {},
   "outputs": [
    {
     "data": {
      "text/plain": [
       "Text(0.5, 0, 'english')"
      ]
     },
     "execution_count": 20,
     "metadata": {},
     "output_type": "execute_result"
    },
    {
     "data": {
      "text/plain": [
       "Text(0, 0.5, 'mathematics')"
      ]
     },
     "execution_count": 20,
     "metadata": {},
     "output_type": "execute_result"
    },
    {
     "data": {
      "text/plain": [
       "<matplotlib.collections.PathCollection at 0x1325fcd1e50>"
      ]
     },
     "execution_count": 20,
     "metadata": {},
     "output_type": "execute_result"
    },
    {
     "data": {
      "text/plain": [
       "[<matplotlib.lines.Line2D at 0x1325fcd3730>]"
      ]
     },
     "execution_count": 20,
     "metadata": {},
     "output_type": "execute_result"
    },
    {
     "data": {
      "text/plain": [
       "<matplotlib.legend.Legend at 0x1325fcd3460>"
      ]
     },
     "execution_count": 20,
     "metadata": {},
     "output_type": "execute_result"
    },
    {
     "data": {
      "image/png": "[encoded data removed]",
      "text/plain": [
       "<Figure size 432x288 with 1 Axes>"
      ]
     },
     "metadata": {
      "needs_background": "light"
     },
     "output_type": "display_data"
    }
   ],
   "source": [
    "# 계수β_0와β_1를 구한다(기울기와 절편)\n",
    "poly_fit = np.polyfit(df['english'],df['mathematics'], 1)\n",
    "\n",
    "# β_0+β_1 x를 반환하는 함수를 작성\n",
    "poly_1d = np.poly1d(poly_fit)\n",
    "\n",
    "# 직선을 그리기 위한 x좌표\n",
    "xs = np.linspace(df['english'].min(), df['english'].max())\n",
    "\n",
    "# xs에 대응하는 y좌표\n",
    "ys = poly_1d(xs)\n",
    "\n",
    "plt.xlabel('english')\n",
    "plt.ylabel('mathematics')\n",
    "plt.scatter(df['english'],df['mathematics'], label='score')\n",
    "plt.plot(xs, ys, color='gray',\n",
    "        label=f'{poly_fit[1]:.2f}+{poly_fit[0]:.2f}x')\n",
    "\n",
    "# 범례의 표시\n",
    "plt.legend(loc='upper left')\n",
    "\n",
    "plt.show()"
   ]
  },
  {
   "cell_type": "markdown",
   "id": "28c95b48",
   "metadata": {},
   "source": [
    "## 히트맵"
   ]
  },
  {
   "cell_type": "code",
   "execution_count": 24,
   "id": "93dd80f8",
   "metadata": {},
   "outputs": [
    {
     "data": {
      "image/png": "[encoded data removed]",
      "text/plain": [
       "<Figure size 432x288 with 1 Axes>"
      ]
     },
     "metadata": {
      "needs_background": "light"
     },
     "output_type": "display_data"
    }
   ],
   "source": [
    "c = plt.hist2d(df['english'], df['mathematics'], bins=[9,8], range=[(35,80),(55,95)])"
   ]
  },
  {
   "cell_type": "code",
   "execution_count": 29,
   "id": "519ae922",
   "metadata": {},
   "outputs": [
    {
     "data": {
      "text/plain": [
       "<matplotlib.collections.QuadMesh at 0x1326082da90>"
      ]
     },
     "execution_count": 29,
     "metadata": {},
     "output_type": "execute_result"
    },
    {
     "data": {
      "text/plain": [
       "Text(0.5, 0, 'english')"
      ]
     },
     "execution_count": 29,
     "metadata": {},
     "output_type": "execute_result"
    },
    {
     "data": {
      "text/plain": [
       "Text(0, 0.5, 'mathematics')"
      ]
     },
     "execution_count": 29,
     "metadata": {},
     "output_type": "execute_result"
    },
    {
     "data": {
      "text/plain": [
       "([<matplotlib.axis.XTick at 0x1325ff0db50>,\n",
       "  <matplotlib.axis.XTick at 0x1325ff0db20>,\n",
       "  <matplotlib.axis.XTick at 0x1325ff0d1f0>,\n",
       "  <matplotlib.axis.XTick at 0x1326083c550>,\n",
       "  <matplotlib.axis.XTick at 0x1326083cca0>,\n",
       "  <matplotlib.axis.XTick at 0x1326083c580>,\n",
       "  <matplotlib.axis.XTick at 0x1326083e5e0>,\n",
       "  <matplotlib.axis.XTick at 0x1326083ed30>,\n",
       "  <matplotlib.axis.XTick at 0x1326083d4c0>,\n",
       "  <matplotlib.axis.XTick at 0x1326083dc10>],\n",
       " [Text(0, 0, ''),\n",
       "  Text(0, 0, ''),\n",
       "  Text(0, 0, ''),\n",
       "  Text(0, 0, ''),\n",
       "  Text(0, 0, ''),\n",
       "  Text(0, 0, ''),\n",
       "  Text(0, 0, ''),\n",
       "  Text(0, 0, ''),\n",
       "  Text(0, 0, ''),\n",
       "  Text(0, 0, '')])"
      ]
     },
     "execution_count": 29,
     "metadata": {},
     "output_type": "execute_result"
    },
    {
     "data": {
      "text/plain": [
       "([<matplotlib.axis.YTick at 0x1325ff1c970>,\n",
       "  <matplotlib.axis.YTick at 0x1325ff1c3a0>,\n",
       "  <matplotlib.axis.YTick at 0x1325ff0d220>,\n",
       "  <matplotlib.axis.YTick at 0x1326083ea30>,\n",
       "  <matplotlib.axis.YTick at 0x13260847040>,\n",
       "  <matplotlib.axis.YTick at 0x13260847b20>,\n",
       "  <matplotlib.axis.YTick at 0x132606282b0>,\n",
       "  <matplotlib.axis.YTick at 0x13260628a00>,\n",
       "  <matplotlib.axis.YTick at 0x1326084d190>],\n",
       " [Text(0, 0, ''),\n",
       "  Text(0, 0, ''),\n",
       "  Text(0, 0, ''),\n",
       "  Text(0, 0, ''),\n",
       "  Text(0, 0, ''),\n",
       "  Text(0, 0, ''),\n",
       "  Text(0, 0, ''),\n",
       "  Text(0, 0, ''),\n",
       "  Text(0, 0, '')])"
      ]
     },
     "execution_count": 29,
     "metadata": {},
     "output_type": "execute_result"
    },
    {
     "data": {
      "text/plain": [
       "<matplotlib.colorbar.Colorbar at 0x132607054c0>"
      ]
     },
     "execution_count": 29,
     "metadata": {},
     "output_type": "execute_result"
    },
    {
     "data": {
      "image/png": "[encoded data removed]",
      "text/plain": [
       "<Figure size 432x288 with 2 Axes>"
      ]
     },
     "metadata": {
      "needs_background": "light"
     },
     "output_type": "display_data"
    }
   ],
   "source": [
    "c = plt.hist2d(df['english'], df['mathematics'],\n",
    "          bins=(9,8), range=[(35,80),(55,95)])\n",
    "c[3]\n",
    "plt.xlabel('english')\n",
    "plt.ylabel('mathematics')\n",
    "plt.xticks(c[1])\n",
    "plt.yticks(c[2])\n",
    "\n",
    "plt.colorbar(c[3])\n",
    "plt.show()"
   ]
  },
  {
   "cell_type": "markdown",
   "id": "0fc9fca7",
   "metadata": {},
   "source": [
    "# 확률과 확률분포"
   ]
  },
  {
   "cell_type": "code",
   "execution_count": 30,
   "id": "f32003b6",
   "metadata": {},
   "outputs": [
    {
     "data": {
      "text/plain": [
       "0    76\n",
       "1    55\n",
       "2    80\n",
       "3    80\n",
       "4    74\n",
       "5    61\n",
       "6    81\n",
       "7    76\n",
       "8    23\n",
       "9    80\n",
       "Name: score, dtype: int64"
      ]
     },
     "execution_count": 30,
     "metadata": {},
     "output_type": "execute_result"
    }
   ],
   "source": [
    "df = pd.read_csv('./data/ch4_scores400.csv')\n",
    "scores = df['score']\n",
    "scores[:10]\n"
   ]
  },
  {
   "cell_type": "code",
   "execution_count": 32,
   "id": "6f5f6d8b",
   "metadata": {},
   "outputs": [
    {
     "data": {
      "text/plain": [
       "array([1, 1, 2])"
      ]
     },
     "execution_count": 32,
     "metadata": {},
     "output_type": "execute_result"
    }
   ],
   "source": [
    "np.random.choice([1,2,3],3)"
   ]
  },
  {
   "cell_type": "code",
   "execution_count": 33,
   "id": "d5cecc51",
   "metadata": {},
   "outputs": [
    {
     "data": {
      "text/plain": [
       "array([3, 2, 1])"
      ]
     },
     "execution_count": 33,
     "metadata": {},
     "output_type": "execute_result"
    }
   ],
   "source": [
    "np.random.choice([1,2,3],3, replace=False)"
   ]
  },
  {
   "cell_type": "code",
   "execution_count": 34,
   "id": "dbbd310c",
   "metadata": {},
   "outputs": [
    {
     "data": {
      "text/plain": [
       "array([3, 2, 3])"
      ]
     },
     "execution_count": 34,
     "metadata": {},
     "output_type": "execute_result"
    }
   ],
   "source": [
    "np.random.seed(123)\n",
    "np.random.choice([1,2,3],3)"
   ]
  },
  {
   "cell_type": "code",
   "execution_count": 37,
   "id": "e4aca641",
   "metadata": {},
   "outputs": [
    {
     "data": {
      "text/plain": [
       "70.4"
      ]
     },
     "execution_count": 37,
     "metadata": {},
     "output_type": "execute_result"
    }
   ],
   "source": [
    "np.random.seed(0)\n",
    "sample = np.random.choice(scores, 20)\n",
    "sample.mean()"
   ]
  },
  {
   "cell_type": "code",
   "execution_count": 38,
   "id": "3a20cd7e",
   "metadata": {},
   "outputs": [
    {
     "data": {
      "text/plain": [
       "69.530"
      ]
     },
     "execution_count": 38,
     "metadata": {},
     "output_type": "execute_result"
    }
   ],
   "source": [
    "scores.mean()"
   ]
  },
  {
   "cell_type": "code",
   "execution_count": 40,
   "id": "f8332dea",
   "metadata": {},
   "outputs": [
    {
     "name": "stdout",
     "output_type": "stream",
     "text": [
      "1번째 무작위 추출로 얻은 데이터의 표본평균 72.45\n",
      "2번째 무작위 추출로 얻은 데이터의 표본평균 63.7\n",
      "3번째 무작위 추출로 얻은 데이터의 표본평균 66.05\n",
      "4번째 무작위 추출로 얻은 데이터의 표본평균 71.7\n",
      "5번째 무작위 추출로 얻은 데이터의 표본평균 74.15\n"
     ]
    }
   ],
   "source": [
    "# seed로 지정 안하면 무작위!\n",
    "for i in range(5):\n",
    "    sample = np.random.choice(scores, 20)\n",
    "    print(f'{i+1}번째 무작위 추출로 얻은 데이터의 표본평균 {sample.mean()}')"
   ]
  },
  {
   "cell_type": "code",
   "execution_count": 42,
   "id": "4fc9d87c",
   "metadata": {},
   "outputs": [
    {
     "data": {
      "text/plain": [
       "[0.048, 0.095, 0.143, 0.190, 0.238, 0.286]"
      ]
     },
     "execution_count": 42,
     "metadata": {},
     "output_type": "execute_result"
    }
   ],
   "source": [
    "# 불공정한 주사위의 확률분포를 구하는 실험\n",
    "# 확률 변수에 필요한 변수가 취할 수 있는 값 : dice\n",
    "dice = [1,2,3,4,5,6]\n",
    "\n",
    "# 그 값이 나올 수 있는 확률 : prob\n",
    "prob=[1/21,2/21,3/21,4/21,5/21,6/21]\n",
    "prob"
   ]
  },
  {
   "cell_type": "code",
   "execution_count": 43,
   "id": "fbed54bf",
   "metadata": {},
   "outputs": [
    {
     "data": {
      "text/plain": [
       "1"
      ]
     },
     "execution_count": 43,
     "metadata": {},
     "output_type": "execute_result"
    }
   ],
   "source": [
    "np.random.choice(dice, p=prob)"
   ]
  },
  {
   "cell_type": "code",
   "execution_count": 45,
   "id": "38212b44",
   "metadata": {},
   "outputs": [
    {
     "data": {
      "text/plain": [
       "array([6, 4, 5, 5, 6, 6, 3, 5, 6, 5, 6, 6, 2, 3, 1, 6, 5, 6, 3, 4, 5, 3,\n",
       "       4, 3, 5, 5, 4, 4, 6, 4, 6, 5, 6, 5, 4, 6, 2, 6, 4, 5, 3, 4, 6, 5,\n",
       "       5, 5, 3, 4, 5, 4, 4, 6, 4, 4, 6, 6, 2, 2, 4, 5, 1, 6, 4, 3, 2, 2,\n",
       "       6, 3, 5, 4, 2, 4, 4, 6, 6, 1, 5, 3, 6, 6, 4, 2, 1, 6, 4, 4, 2, 4,\n",
       "       1, 3, 6, 6, 6, 4, 5, 4, 3, 3, 4, 6])"
      ]
     },
     "execution_count": 45,
     "metadata": {},
     "output_type": "execute_result"
    }
   ],
   "source": [
    "num_trial = 100\n",
    "sample = np.random.choice(dice, num_trial, p=prob)\n",
    "sample"
   ]
  },
  {
   "cell_type": "code",
   "execution_count": 46,
   "id": "56d6a386",
   "metadata": {},
   "outputs": [
    {
     "data": {
      "text/html": [
       "<div>\n",
       "<style scoped>\n",
       "    .dataframe tbody tr th:only-of-type {\n",
       "        vertical-align: middle;\n",
       "    }\n",
       "\n",
       "    .dataframe tbody tr th {\n",
       "        vertical-align: top;\n",
       "    }\n",
       "\n",
       "    .dataframe thead th {\n",
       "        text-align: right;\n",
       "    }\n",
       "</style>\n",
       "<table border=\"1\" class=\"dataframe\">\n",
       "  <thead>\n",
       "    <tr style=\"text-align: right;\">\n",
       "      <th></th>\n",
       "      <th>frequency</th>\n",
       "      <th>rel.freq</th>\n",
       "    </tr>\n",
       "    <tr>\n",
       "      <th>dice</th>\n",
       "      <th></th>\n",
       "      <th></th>\n",
       "    </tr>\n",
       "  </thead>\n",
       "  <tbody>\n",
       "    <tr>\n",
       "      <th>1</th>\n",
       "      <td>5</td>\n",
       "      <td>0.05</td>\n",
       "    </tr>\n",
       "    <tr>\n",
       "      <th>2</th>\n",
       "      <td>9</td>\n",
       "      <td>0.09</td>\n",
       "    </tr>\n",
       "    <tr>\n",
       "      <th>3</th>\n",
       "      <td>13</td>\n",
       "      <td>0.13</td>\n",
       "    </tr>\n",
       "    <tr>\n",
       "      <th>4</th>\n",
       "      <td>26</td>\n",
       "      <td>0.26</td>\n",
       "    </tr>\n",
       "    <tr>\n",
       "      <th>5</th>\n",
       "      <td>19</td>\n",
       "      <td>0.19</td>\n",
       "    </tr>\n",
       "    <tr>\n",
       "      <th>6</th>\n",
       "      <td>28</td>\n",
       "      <td>0.28</td>\n",
       "    </tr>\n",
       "  </tbody>\n",
       "</table>\n",
       "</div>"
      ],
      "text/plain": [
       "      frequency  rel.freq\n",
       "dice                     \n",
       "1             5      0.05\n",
       "2             9      0.09\n",
       "3            13      0.13\n",
       "4            26      0.26\n",
       "5            19      0.19\n",
       "6            28      0.28"
      ]
     },
     "execution_count": 46,
     "metadata": {},
     "output_type": "execute_result"
    }
   ],
   "source": [
    "freq, _ = np.histogram(sample, bins=6, range=(1,7))\n",
    "pd.DataFrame({'frequency':freq,\n",
    "             'rel.freq':freq/num_trial},\n",
    "            index=pd.Index(np.arange(1,7), name='dice'))"
   ]
  },
  {
   "cell_type": "code",
   "execution_count": 47,
   "id": "a5359eac",
   "metadata": {},
   "outputs": [
    {
     "data": {
      "text/plain": [
       "(array([0.050, 0.090, 0.130, 0.260, 0.190, 0.280]),\n",
       " array([1.000, 2.000, 3.000, 4.000, 5.000, 6.000, 7.000]),\n",
       " <BarContainer object of 6 artists>)"
      ]
     },
     "execution_count": 47,
     "metadata": {},
     "output_type": "execute_result"
    },
    {
     "data": {
      "text/plain": [
       "<matplotlib.collections.LineCollection at 0x132610cabe0>"
      ]
     },
     "execution_count": 47,
     "metadata": {},
     "output_type": "execute_result"
    },
    {
     "data": {
      "text/plain": [
       "[<matplotlib.axis.XTick at 0x13260ba4d90>,\n",
       " <matplotlib.axis.XTick at 0x13260ba4b80>,\n",
       " <matplotlib.axis.XTick at 0x13260bb70d0>,\n",
       " <matplotlib.axis.XTick at 0x13260750880>,\n",
       " <matplotlib.axis.XTick at 0x13260751520>,\n",
       " <matplotlib.axis.XTick at 0x13260bb5ee0>]"
      ]
     },
     "execution_count": 47,
     "metadata": {},
     "output_type": "execute_result"
    },
    {
     "data": {
      "text/plain": [
       "[Text(1.5, 0, '1'),\n",
       " Text(2.5, 0, '2'),\n",
       " Text(3.5, 0, '3'),\n",
       " Text(4.5, 0, '4'),\n",
       " Text(5.5, 0, '5'),\n",
       " Text(6.5, 0, '6')]"
      ]
     },
     "execution_count": 47,
     "metadata": {},
     "output_type": "execute_result"
    },
    {
     "data": {
      "text/plain": [
       "Text(0.5, 0, 'dice')"
      ]
     },
     "execution_count": 47,
     "metadata": {},
     "output_type": "execute_result"
    },
    {
     "data": {
      "text/plain": [
       "Text(0, 0.5, 'relative frequency')"
      ]
     },
     "execution_count": 47,
     "metadata": {},
     "output_type": "execute_result"
    },
    {
     "data": {
      "image/png": "[encoded data removed]",
      "text/plain": [
       "<Figure size 720x432 with 1 Axes>"
      ]
     },
     "metadata": {
      "needs_background": "light"
     },
     "output_type": "display_data"
    }
   ],
   "source": [
    "# 100번의 시도는 정해져 있는 확률과는 차이가 있다.\n",
    "\n",
    "fig = plt.figure(figsize=(10, 6))\n",
    "ax = fig.add_subplot(111)\n",
    "ax.hist(sample, bins=6, range=(1, 7), density=True, rwidth=0.8)\n",
    "\n",
    "# 실제의 확률분포를 가로선으로 표시\n",
    "ax.hlines(prob, np.arange(1, 7), np.arange(2, 8), colors='gray')\n",
    "\n",
    "# 막대 그래프의 [1.5, 2.5, ..., 6.5]에 눈금을 표시\n",
    "ax.set_xticks(np.linspace(1.5, 6.5, 6))\n",
    "\n",
    "# 주사위 눈의 값은 [1, 2, 3, 4, 5, 6]\n",
    "ax.set_xticklabels(np.arange(1, 7))\n",
    "ax.set_xlabel('dice')\n",
    "ax.set_ylabel('relative frequency')\n",
    "plt.show()"
   ]
  },
  {
   "cell_type": "code",
   "execution_count": 48,
   "id": "590edcd1",
   "metadata": {},
   "outputs": [
    {
     "data": {
      "text/plain": [
       "(array([0.050, 0.092, 0.141, 0.191, 0.243, 0.284]),\n",
       " array([1.000, 2.000, 3.000, 4.000, 5.000, 6.000, 7.000]),\n",
       " <BarContainer object of 6 artists>)"
      ]
     },
     "execution_count": 48,
     "metadata": {},
     "output_type": "execute_result"
    },
    {
     "data": {
      "text/plain": [
       "<matplotlib.collections.LineCollection at 0x132610c4a60>"
      ]
     },
     "execution_count": 48,
     "metadata": {},
     "output_type": "execute_result"
    },
    {
     "data": {
      "text/plain": [
       "Text(0.5, 0, 'dice')"
      ]
     },
     "execution_count": 48,
     "metadata": {},
     "output_type": "execute_result"
    },
    {
     "data": {
      "text/plain": [
       "Text(0, 0.5, 'relative frequency')"
      ]
     },
     "execution_count": 48,
     "metadata": {},
     "output_type": "execute_result"
    },
    {
     "data": {
      "image/png": "[encoded data removed]",
      "text/plain": [
       "<Figure size 720x432 with 1 Axes>"
      ]
     },
     "metadata": {
      "needs_background": "light"
     },
     "output_type": "display_data"
    }
   ],
   "source": [
    "num_trial = 10000\n",
    "sample = np.random.choice(dice, size=num_trial, p=prob)\n",
    "\n",
    "fig = plt.figure(figsize=(10, 6))\n",
    "ax = fig.add_subplot(111)\n",
    "ax.hist(sample, bins=6, range=(1, 7), density=True, rwidth=0.8)\n",
    "ax.hlines(prob, np.arange(1, 7), np.arange(2, 8), colors='gray')\n",
    "\n",
    "# ax.set_xticks(np.linspace(1.5, 6.5, 6))\n",
    "# ax.set_xticklabels(np.arange(1, 7))\n",
    "ax.set_xlabel('dice')\n",
    "ax.set_ylabel('relative frequency')\n",
    "plt.show()"
   ]
  },
  {
   "cell_type": "markdown",
   "id": "272e0824",
   "metadata": {},
   "source": [
    "## 추론 통계에서의 확률"
   ]
  },
  {
   "cell_type": "code",
   "execution_count": 49,
   "id": "ddc76019",
   "metadata": {},
   "outputs": [
    {
     "data": {
      "text/plain": [
       "(array([0.000, 0.000, 0.000, 0.000, 0.000, 0.000, 0.000, 0.000, 0.000,\n",
       "        0.000, 0.000, 0.000, 0.000, 0.000, 0.000, 0.000, 0.000, 0.000,\n",
       "        0.000, 0.000, 0.000, 0.000, 0.000, 0.003, 0.000, 0.000, 0.000,\n",
       "        0.000, 0.003, 0.003, 0.000, 0.003, 0.000, 0.000, 0.003, 0.000,\n",
       "        0.000, 0.000, 0.003, 0.000, 0.003, 0.005, 0.007, 0.007, 0.000,\n",
       "        0.013, 0.013, 0.007, 0.005, 0.015, 0.010, 0.000, 0.022, 0.003,\n",
       "        0.020, 0.025, 0.020, 0.025, 0.020, 0.013, 0.015, 0.033, 0.015,\n",
       "        0.035, 0.022, 0.020, 0.015, 0.033, 0.040, 0.028, 0.025, 0.018,\n",
       "        0.022, 0.020, 0.025, 0.018, 0.035, 0.025, 0.033, 0.025, 0.025,\n",
       "        0.020, 0.018, 0.022, 0.007, 0.015, 0.022, 0.013, 0.005, 0.007,\n",
       "        0.013, 0.020, 0.015, 0.010, 0.007, 0.000, 0.013, 0.005, 0.003,\n",
       "        0.013]),\n",
       " array([0.000, 1.000, 2.000, 3.000, 4.000, 5.000, 6.000, 7.000, 8.000,\n",
       "        9.000, 10.000, 11.000, 12.000, 13.000, 14.000, 15.000, 16.000,\n",
       "        17.000, 18.000, 19.000, 20.000, 21.000, 22.000, 23.000, 24.000,\n",
       "        25.000, 26.000, 27.000, 28.000, 29.000, 30.000, 31.000, 32.000,\n",
       "        33.000, 34.000, 35.000, 36.000, 37.000, 38.000, 39.000, 40.000,\n",
       "        41.000, 42.000, 43.000, 44.000, 45.000, 46.000, 47.000, 48.000,\n",
       "        49.000, 50.000, 51.000, 52.000, 53.000, 54.000, 55.000, 56.000,\n",
       "        57.000, 58.000, 59.000, 60.000, 61.000, 62.000, 63.000, 64.000,\n",
       "        65.000, 66.000, 67.000, 68.000, 69.000, 70.000, 71.000, 72.000,\n",
       "        73.000, 74.000, 75.000, 76.000, 77.000, 78.000, 79.000, 80.000,\n",
       "        81.000, 82.000, 83.000, 84.000, 85.000, 86.000, 87.000, 88.000,\n",
       "        89.000, 90.000, 91.000, 92.000, 93.000, 94.000, 95.000, 96.000,\n",
       "        97.000, 98.000, 99.000, 100.000]),\n",
       " <BarContainer object of 100 artists>)"
      ]
     },
     "execution_count": 49,
     "metadata": {},
     "output_type": "execute_result"
    },
    {
     "data": {
      "text/plain": [
       "(20.000, 100.000)"
      ]
     },
     "execution_count": 49,
     "metadata": {},
     "output_type": "execute_result"
    },
    {
     "data": {
      "text/plain": [
       "(0.000, 0.042)"
      ]
     },
     "execution_count": 49,
     "metadata": {},
     "output_type": "execute_result"
    },
    {
     "data": {
      "text/plain": [
       "Text(0.5, 0, 'score')"
      ]
     },
     "execution_count": 49,
     "metadata": {},
     "output_type": "execute_result"
    },
    {
     "data": {
      "text/plain": [
       "Text(0, 0.5, 'relative frequency')"
      ]
     },
     "execution_count": 49,
     "metadata": {},
     "output_type": "execute_result"
    },
    {
     "data": {
      "image/png": "[encoded data removed]",
      "text/plain": [
       "<Figure size 720x432 with 1 Axes>"
      ]
     },
     "metadata": {
      "needs_background": "light"
     },
     "output_type": "display_data"
    }
   ],
   "source": [
    "fig = plt.figure(figsize=(10, 6))\n",
    "ax = fig.add_subplot(111)\n",
    "ax.hist(scores, bins=100, range=(0, 100), density=True)\n",
    "ax.set_xlim(20, 100)\n",
    "ax.set_ylim(0, 0.042)\n",
    "ax.set_xlabel('score')\n",
    "ax.set_ylabel('relative frequency')\n",
    "plt.show()"
   ]
  },
  {
   "cell_type": "markdown",
   "id": "70a59eab",
   "metadata": {},
   "source": [
    "## 이산형/연속형 확률분포"
   ]
  },
  {
   "attachments": {
    "%ED%99%95%EB%A5%A0%EB%B6%84%ED%8F%AC%ED%95%A8%EC%88%98%EB%93%A4.png": {
     "image/png": "[encoded data removed]"
    }
   },
   "cell_type": "markdown",
   "id": "8cfc23e9",
   "metadata": {},
   "source": [
    "![%ED%99%95%EB%A5%A0%EB%B6%84%ED%8F%AC%ED%95%A8%EC%88%98%EB%93%A4.png](attachment:%ED%99%95%EB%A5%A0%EB%B6%84%ED%8F%AC%ED%95%A8%EC%88%98%EB%93%A4.png)"
   ]
  }
 ],
 "metadata": {
  "kernelspec": {
   "display_name": "Python 3 (ipykernel)",
   "language": "python",
   "name": "python3"
  },
  "language_info": {
   "codemirror_mode": {
    "name": "ipython",
    "version": 3
   },
   "file_extension": ".py",
   "mimetype": "text/x-python",
   "name": "python",
   "nbconvert_exporter": "python",
   "pygments_lexer": "ipython3",
   "version": "3.9.7"
  }
 },
 "nbformat": 4,
 "nbformat_minor": 5
}
